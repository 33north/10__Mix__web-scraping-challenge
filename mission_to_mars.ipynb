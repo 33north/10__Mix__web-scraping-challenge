{
 "cells": [
  {
   "cell_type": "code",
   "execution_count": 32,
   "metadata": {},
   "outputs": [],
   "source": [
    "# Dependencies\n",
    "import pandas as pd\n",
    "from bs4 import BeautifulSoup as bs\n",
    "import requests as rq\n",
    "from webdriver_manager.chrome import ChromeDriverManager\n",
    "from splinter import Browser"
   ]
  },
  {
   "cell_type": "code",
   "execution_count": 46,
   "metadata": {},
   "outputs": [
    {
     "name": "stderr",
     "output_type": "stream",
     "text": [
      "\n",
      "\n",
      "====== WebDriver manager ======\n",
      "Current google-chrome version is 101.0.4951\n",
      "Get LATEST chromedriver version for 101.0.4951 google-chrome\n",
      "Driver [/Users/rmbp2015/.wdm/drivers/chromedriver/mac64/101.0.4951.41/chromedriver] found in cache\n"
     ]
    }
   ],
   "source": [
    "executable_path = {\"executable_path\": ChromeDriverManager().install()}\n",
    "chrome = Browser(\"chrome\", **executable_path, headless=False)"
   ]
  },
  {
   "cell_type": "markdown",
   "metadata": {},
   "source": [
    "# Mars News Title and Article"
   ]
  },
  {
   "cell_type": "code",
   "execution_count": 55,
   "metadata": {},
   "outputs": [
    {
     "name": "stdout",
     "output_type": "stream",
     "text": [
      "News Title: NASA, ULA Launch Mars 2020 Perseverance Rover Mission to Red Planet\n",
      "News Article: The agency's Mars 2020 mission is on its way. It will land at Jezero Crater in about seven months, on Feb. 18, 2021. \n"
     ]
    }
   ],
   "source": [
    "# Mars website\n",
    "mars_url = \"https://redplanetscience.com/\"\n",
    "chrome.visit(mars_url)\n",
    "\n",
    "html_mars = chrome.html\n",
    "\n",
    "# Create BeautifulSoup object; parse with 'html.parser'\n",
    "mars_soup = bs(html_mars, \"html.parser\")\n",
    "\n",
    "# Get title of news article\n",
    "news_title = mars_soup.select_one(\"div.list_text\").find(\"div\", class_ = \"content_title\").get_text()\n",
    "print(f\"News Title: {news_title}\")\n",
    "\n",
    "# Get news short article\n",
    "news_article = mars_soup.select_one(\"div.list_text\").find(\"div\", class_ = \"article_teaser_body\").get_text()\n",
    "print(f\"News Article: {news_article}\")"
   ]
  },
  {
   "cell_type": "markdown",
   "metadata": {},
   "source": [
    "# Nasa Picture"
   ]
  },
  {
   "cell_type": "code",
   "execution_count": 60,
   "metadata": {},
   "outputs": [
    {
     "name": "stdout",
     "output_type": "stream",
     "text": [
      "Image URL: image/featured/mars1.jpg\n",
      "Full Image URL: https://spaceimages-mars.com/image/featured/mars1.jpg\n"
     ]
    }
   ],
   "source": [
    "# Nasa website\n",
    "nasa_url = \"https://spaceimages-mars.com/\"\n",
    "chrome.visit(nasa_url)\n",
    "\n",
    "html_nasa = chrome.html\n",
    "\n",
    "# Create BeautifulSoup object; parse with 'html.parser'\n",
    "nasa_soup = bs(html_nasa, \"html.parser\")\n",
    "\n",
    "# Get the image url for the header image on nasa\n",
    "featured_image_url = nasa_soup.find(\"img\", class_ = \"headerimage\").get(\"src\")\n",
    "print(f\"Image URL: {featured_image_url}\")\n",
    "\n",
    "featured_image_url = nasa_url + featured_image_url\n",
    "print(f\"Full Image URL: {featured_image_url}\")"
   ]
  },
  {
   "cell_type": "markdown",
   "metadata": {},
   "source": [
    "# Mars Facts"
   ]
  },
  {
   "cell_type": "code",
   "execution_count": 73,
   "metadata": {},
   "outputs": [
    {
     "name": "stdout",
     "output_type": "stream",
     "text": [
      "    Mars Planet Profile                          Facts\n",
      "0  Equatorial Diameter:                       6,792 km\n",
      "1       Polar Diameter:                       6,752 km\n",
      "2                 Mass:  6.39 × 10^23 kg (0.11 Earths)\n",
      "3                Moons:          2 ( Phobos & Deimos )\n",
      "4       Orbit Distance:       227,943,824 km (1.38 AU)\n",
      "5         Orbit Period:           687 days (1.9 years)\n",
      "6  Surface Temperature:                   -87 to -5 °C\n",
      "7         First Record:              2nd millennium BC\n",
      "8          Recorded By:           Egyptian astronomers\n"
     ]
    },
    {
     "data": {
      "text/plain": [
       "'<table border=\"1\" class=\"dataframe\">\\n  <thead>\\n    <tr style=\"text-align: right;\">\\n      <th></th>\\n      <th>Mars Planet Profile</th>\\n      <th>Facts</th>\\n    </tr>\\n  </thead>\\n  <tbody>\\n    <tr>\\n      <th>0</th>\\n      <td>Equatorial Diameter:</td>\\n      <td>6,792 km</td>\\n    </tr>\\n    <tr>\\n      <th>1</th>\\n      <td>Polar Diameter:</td>\\n      <td>6,752 km</td>\\n    </tr>\\n    <tr>\\n      <th>2</th>\\n      <td>Mass:</td>\\n      <td>6.39 × 10^23 kg (0.11 Earths)</td>\\n    </tr>\\n    <tr>\\n      <th>3</th>\\n      <td>Moons:</td>\\n      <td>2 ( Phobos &amp; Deimos )</td>\\n    </tr>\\n    <tr>\\n      <th>4</th>\\n      <td>Orbit Distance:</td>\\n      <td>227,943,824 km (1.38 AU)</td>\\n    </tr>\\n    <tr>\\n      <th>5</th>\\n      <td>Orbit Period:</td>\\n      <td>687 days (1.9 years)</td>\\n    </tr>\\n    <tr>\\n      <th>6</th>\\n      <td>Surface Temperature:</td>\\n      <td>-87 to -5 °C</td>\\n    </tr>\\n    <tr>\\n      <th>7</th>\\n      <td>First Record:</td>\\n      <td>2nd millennium BC</td>\\n    </tr>\\n    <tr>\\n      <th>8</th>\\n      <td>Recorded By:</td>\\n      <td>Egyptian astronomers</td>\\n    </tr>\\n  </tbody>\\n</table>'"
      ]
     },
     "execution_count": 73,
     "metadata": {},
     "output_type": "execute_result"
    }
   ],
   "source": [
    "# Grab table from mars fact website \n",
    "mars_fact_url = pd.read_html(\"https://galaxyfacts-mars.com/\")[1]\n",
    "\n",
    "mars_fact_url = mars_fact_url.rename(columns = {0: \"Mars Planet Profile\", 1: \"Facts\"})\n",
    "print(mars_fact_url)\n",
    "\n",
    "# Convert mars data to html\n",
    "mars_fact_url.to_html()"
   ]
  },
  {
   "cell_type": "markdown",
   "metadata": {},
   "source": [
    "# Mars Hemispheres"
   ]
  },
  {
   "cell_type": "code",
   "execution_count": 98,
   "metadata": {},
   "outputs": [],
   "source": [
    "# Mars hemishere url\n",
    "mars_hemi_url = \"https://marshemispheres.com/\"\n",
    "chrome.visit(mars_hemi_url)\n",
    "\n",
    "html_mars_hemi = chrome.html\n",
    "\n",
    "# Create BeautifulSoup object; parse with 'html.parser'\n",
    "mars_hemi_soup = bs(html_mars_hemi, \"html.parser\")"
   ]
  },
  {
   "cell_type": "code",
   "execution_count": 105,
   "metadata": {},
   "outputs": [
    {
     "data": {
      "text/plain": [
       "[{'title': 'Cerberus Hemisphere Enhanced',\n",
       "  'img_url': 'https://marshemispheres.com/images/full.jpg'},\n",
       " {'title': 'Schiaparelli Hemisphere Enhanced',\n",
       "  'img_url': 'https://marshemispheres.com/images/schiaparelli_enhanced-full.jpg'},\n",
       " {'title': 'Syrtis Major Hemisphere Enhanced',\n",
       "  'img_url': 'https://marshemispheres.com/images/syrtis_major_enhanced-full.jpg'},\n",
       " {'title': 'Valles Marineris Hemisphere Enhanced',\n",
       "  'img_url': 'https://marshemispheres.com/images/valles_marineris_enhanced-full.jpg'}]"
      ]
     },
     "execution_count": 105,
     "metadata": {},
     "output_type": "execute_result"
    }
   ],
   "source": [
    "hemisphere_image_urls = []\n",
    "\n",
    "# Grab all div tags in first webpage\n",
    "mars_hemi_soup_divtag = mars_hemi_soup.find_all(\"div\", class_ = \"description\")\n",
    "\n",
    "# for-loop through div tag in mars_hemi_soup_divtag\n",
    "for div_tag_first in mars_hemi_soup_divtag:\n",
    "    hemi_title = div_tag_first.find(\"h3\").get_text()\n",
    "    hemi_image_link = div_tag_first.find(\"a\").get(\"href\")\n",
    "    next_page_img_link = mars_hemi_url + hemi_image_link\n",
    "\n",
    "    # Visit the subsequent page for the hemisphere image\n",
    "    chrome.visit(next_page_img_link)\n",
    "    html_mars_hemi_next = chrome.html\n",
    "\n",
    "    # Create BeautifulSoup object; parse with 'html.parser'\n",
    "    mars_hemi_soup_next = bs(html_mars_hemi_next, \"html.parser\")\n",
    "\n",
    "    # Grabb all div tags of the subsequent page\n",
    "    mars_hemi_soup_next_divtag = mars_hemi_soup_next.find_all(\"div\", class_ = \"downloads\")\n",
    "\n",
    "    # for-loop through div tag in mars_hemi_soup_next_divtag\n",
    "    for div_tag_second in mars_hemi_soup_next_divtag:\n",
    "        hemi_full_link = div_tag_second.find(\"a\").get(\"href\")\n",
    "        full_mars_hemi_url = mars_hemi_url+hemi_full_link\n",
    "\n",
    "        hemi_dict = {\n",
    "            \"title\": hemi_title,\n",
    "            \"img_url\": full_mars_hemi_url\n",
    "        }\n",
    "        \n",
    "        # Append title and full image link into list\n",
    "        hemisphere_image_urls.append(hemi_dict)\n",
    "\n",
    "hemisphere_image_urls"
   ]
  }
 ],
 "metadata": {
  "interpreter": {
   "hash": "1aeb84dc5d91a07996324b740e495bca5d611e333e22a96b68829f063c53f52b"
  },
  "kernelspec": {
   "display_name": "Python 3.8.8 ('base')",
   "language": "python",
   "name": "python3"
  },
  "language_info": {
   "codemirror_mode": {
    "name": "ipython",
    "version": 3
   },
   "file_extension": ".py",
   "mimetype": "text/x-python",
   "name": "python",
   "nbconvert_exporter": "python",
   "pygments_lexer": "ipython3",
   "version": "3.8.8"
  },
  "orig_nbformat": 4
 },
 "nbformat": 4,
 "nbformat_minor": 2
}
